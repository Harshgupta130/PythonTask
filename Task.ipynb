{
 "cells": [
  {
   "cell_type": "code",
   "execution_count": 3,
   "metadata": {},
   "outputs": [],
   "source": [
    "import math\n",
    "import sys"
   ]
  },
  {
   "cell_type": "code",
   "execution_count": 4,
   "metadata": {},
   "outputs": [
    {
     "name": "stdout",
     "output_type": "stream",
     "text": [
      "1750\n"
     ]
    }
   ],
   "source": [
    "product=[\"A\",\"B\",\"C\"]\n",
    "price=[20,40,50]\n",
    "quant=[]\n",
    "discountName={0:\"flat_10_discount\",1:\"bulk_5_discount\",2:\"bulk_10_discount\",3:\"tiered_50_discount\"}\n",
    "quant.append(int(input(\"Enter Quantity Of Item A : \")))\n",
    "quant.append(int(input(\"Enter Quantity Of Item B : \")))\n",
    "quant.append(int(input(\"Enter Quantity Of Item C : \")))\n",
    "totalQuant=sum(quant)\n",
    "if min(quant)<0 or totalQuant<=0:\n",
    "    print(\"invalid input \")\n",
    "    sys.exit()\n",
    "cost=sum([p*q for p ,q in zip(price,quant)])\n",
    "print(cost)"
   ]
  },
  {
   "cell_type": "code",
   "execution_count": 5,
   "metadata": {},
   "outputs": [],
   "source": [
    "def DiscountFirst(cost):\n",
    "    if cost>=200:\n",
    "        return 10\n",
    "    return 0"
   ]
  },
  {
   "cell_type": "code",
   "execution_count": 6,
   "metadata": {},
   "outputs": [],
   "source": [
    "def DiscountSecond(price ,quant):\n",
    "    discount=0\n",
    "    for p,q in zip(price,quant):\n",
    "        if q>=10:\n",
    "            discount+=p*q*5/100\n",
    "    return discount\n"
   ]
  },
  {
   "cell_type": "code",
   "execution_count": 7,
   "metadata": {},
   "outputs": [],
   "source": [
    "def DiscountThird(totalQuant,cost):\n",
    "    discount=0\n",
    "    if totalQuant>=20:\n",
    "        discount=cost/10\n",
    "    return discount"
   ]
  },
  {
   "cell_type": "code",
   "execution_count": 8,
   "metadata": {},
   "outputs": [],
   "source": [
    "def DiscountFourth(price,quant):\n",
    "    discount=0\n",
    "    if sum(quant)>=30:\n",
    "        for p,q in zip(price,quant):\n",
    "            if q>=15:\n",
    "                discount+=(q-15)*p/2\n",
    "    return discount"
   ]
  },
  {
   "cell_type": "code",
   "execution_count": 9,
   "metadata": {},
   "outputs": [
    {
     "name": "stdout",
     "output_type": "stream",
     "text": [
      "[10, 87.5, 175.0, 100.0]\n"
     ]
    }
   ],
   "source": [
    "discount=[]\n",
    "discount.append(DiscountFirst(cost))\n",
    "discount.append(DiscountSecond(price,quant))\n",
    "discount.append(DiscountThird(totalQuant,cost))\n",
    "discount.append(DiscountFourth(price,quant))\n",
    "\n",
    "print(discount)"
   ]
  },
  {
   "cell_type": "code",
   "execution_count": 10,
   "metadata": {},
   "outputs": [
    {
     "name": "stdout",
     "output_type": "stream",
     "text": [
      "175.0 2\n"
     ]
    }
   ],
   "source": [
    "max_discount,index=max((d,i) for i ,d in enumerate(discount))\n",
    "print(max_discount,index)"
   ]
  },
  {
   "cell_type": "code",
   "execution_count": 11,
   "metadata": {},
   "outputs": [
    {
     "name": "stdout",
     "output_type": "stream",
     "text": [
      "product\t qunatity\t amount\n",
      "==================================\n",
      "A \t 10 \t\t 200\n",
      "B \t 20 \t\t 800\n",
      "C \t 15 \t\t 750\n",
      "==================================\n",
      "SubTotal\t\t 1750\n",
      "Discount\n",
      "bulk_10_discount \t -175.0\n",
      "Gift wrap fee\t\t 45\n",
      "Shipping Fee\t\t 25\n",
      "==================================\n",
      "Total\t\t\t 1645.0\n"
     ]
    }
   ],
   "source": [
    "print(\"product\\t qunatity\\t amount\")\n",
    "print(\"==================================\")\n",
    "for n,q,p in zip(product,quant,price):\n",
    "    print(n,\"\\t\",q,\"\\t\\t\",p*q)\n",
    "print(\"==================================\")\n",
    "print(\"SubTotal\\t\\t\",cost)\n",
    "print(\"Discount\")\n",
    "print(discountName[index],\"\\t\",-1*max_discount)\n",
    "print(\"Gift wrap fee\\t\\t\",totalQuant)\n",
    "shippingFee=math.ceil(totalQuant/10)*5\n",
    "print(\"Shipping Fee\\t\\t\",shippingFee) #here we are considering if some product are left after packaging of 10 then we are making 1 new package for that\n",
    "print(\"==================================\")\n",
    "print(\"Total\\t\\t\\t\",cost+totalQuant+shippingFee-max_discount)"
   ]
  }
 ],
 "metadata": {
  "kernelspec": {
   "display_name": "Python 3",
   "language": "python",
   "name": "python3"
  },
  "language_info": {
   "codemirror_mode": {
    "name": "ipython",
    "version": 3
   },
   "file_extension": ".py",
   "mimetype": "text/x-python",
   "name": "python",
   "nbconvert_exporter": "python",
   "pygments_lexer": "ipython3",
   "version": "3.9.6"
  }
 },
 "nbformat": 4,
 "nbformat_minor": 2
}
